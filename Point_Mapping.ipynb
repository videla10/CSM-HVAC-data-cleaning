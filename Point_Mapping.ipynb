{
 "cells": [
  {
   "cell_type": "code",
   "execution_count": 1,
   "id": "6ab207c9",
   "metadata": {},
   "outputs": [
    {
     "name": "stdout",
     "output_type": "stream",
     "text": [
      "Note: you may need to restart the kernel to use updated packages.\n"
     ]
    }
   ],
   "source": [
    "%pip install pandas seaborn pip install memory-profiler --quiet"
   ]
  },
  {
   "cell_type": "code",
   "execution_count": 17,
   "id": "1601189e",
   "metadata": {},
   "outputs": [],
   "source": [
    "import pyarrow.parquet as pq\n",
    "import pyarrow as pa\n",
    "from pyarrow import csv\n",
    "import pandas as pd\n",
    "import re\n",
    "import json\n",
    "\n",
    "# read in parquet file for sprucehall data\n",
    "dataset = pq.read_table('sprucehall')\n",
    "\n",
    "sprucehallFolder = dataset.to_pandas()\n",
    "\n",
    "# uniqueSpruce holds all unique point labels in data\n",
    "uniqueSpruce = sprucehallFolder.groupby('point').size().reset_index(name='counts')"
   ]
  },
  {
   "cell_type": "code",
   "execution_count": 18,
   "id": "6975d51e",
   "metadata": {},
   "outputs": [],
   "source": [
    "def tokenize(row, buildingdict, number):\n",
    "    dicttoken = {}\n",
    "    currindex = 0\n",
    "    \n",
    "    # key of each entry into point label dictionary will be the index of the beginning of each value\n",
    "    \n",
    "    while currindex < len(row):\n",
    "        \n",
    "        # Delimiters\n",
    "        if row[currindex] in {\"$\", \":\", \"_\"}:\n",
    "            dicttoken[currindex] = row[currindex]\n",
    "            currindex += 1\n",
    "            continue\n",
    "        \n",
    "        # Continuous upper\n",
    "        if row[currindex].isupper() and (currindex + 1 < len(row) and row[currindex + 1].isupper()):\n",
    "            concatenateToken = \"\"\n",
    "            startindex = currindex\n",
    "            while currindex < len(row) and row[currindex].isupper():\n",
    "                concatenateToken += row[currindex]\n",
    "                currindex += 1\n",
    "            dicttoken[startindex] = concatenateToken\n",
    "            continue\n",
    "        \n",
    "        # Lower following upper\n",
    "        if row[currindex].isupper() and (currindex + 1 < len(row) and row[currindex + 1].islower()):\n",
    "            concatenateToken = \"\"\n",
    "            startindex = currindex\n",
    "            concatenateToken += row[currindex]\n",
    "            currindex += 1\n",
    "            while currindex < len(row) and row[currindex].islower():\n",
    "                concatenateToken += row[currindex]\n",
    "                currindex += 1\n",
    "            dicttoken[startindex] = concatenateToken\n",
    "            continue\n",
    "        \n",
    "        # Repeating digits\n",
    "        if row[currindex].isdigit():\n",
    "            concatenateToken = \"\"\n",
    "            startindex = currindex\n",
    "            while currindex < len(row) and row[currindex].isdigit():\n",
    "                concatenateToken += row[currindex]\n",
    "                currindex += 1\n",
    "            dicttoken[startindex] = concatenateToken\n",
    "            continue\n",
    "        \n",
    "        # Increment the current index if no conditions are met\n",
    "        currindex += 1\n",
    "        \n",
    "    buildingdict[number] = dicttoken"
   ]
  },
  {
   "cell_type": "code",
   "execution_count": 19,
   "id": "5d0d7dc1",
   "metadata": {},
   "outputs": [],
   "source": [
    "# building labels is the main dictionary\n",
    "# number will be used as the key for each point label's dictionary\n",
    "buildinglabels = {}\n",
    "number = 0\n",
    "\n",
    "# for loop looping through each row\n",
    "for row, count in uniqueSpruce.iterrows():  \n",
    "    point_label = uniqueSpruce.iloc[row, 0]\n",
    "    tokenize(point_label, buildinglabels, number)\n",
    "    number += 1\n",
    "\n",
    "# making json file with main directory\n",
    "jsonlabels = json.dumps(buildinglabels, indent = 4)\n",
    "\n",
    "# creation of json file\n",
    "with open(\"pointlabels.json\", \"w\") as outfile:\n",
    "    outfile.write(jsonlabels)"
   ]
  },
  {
   "cell_type": "code",
   "execution_count": null,
   "id": "3ddda041",
   "metadata": {},
   "outputs": [],
   "source": []
  }
 ],
 "metadata": {
  "kernelspec": {
   "display_name": "Python 3 (ipykernel)",
   "language": "python",
   "name": "python3"
  },
  "language_info": {
   "codemirror_mode": {
    "name": "ipython",
    "version": 3
   },
   "file_extension": ".py",
   "mimetype": "text/x-python",
   "name": "python",
   "nbconvert_exporter": "python",
   "pygments_lexer": "ipython3",
   "version": "3.10.9"
  }
 },
 "nbformat": 4,
 "nbformat_minor": 5
}
